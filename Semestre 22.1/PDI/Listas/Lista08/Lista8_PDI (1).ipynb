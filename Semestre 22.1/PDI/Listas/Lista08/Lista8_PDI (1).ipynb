{
  "nbformat": 4,
  "nbformat_minor": 0,
  "metadata": {
    "colab": {
      "provenance": [],
      "collapsed_sections": []
    },
    "kernelspec": {
      "name": "python3",
      "display_name": "Python 3"
    },
    "language_info": {
      "name": "python"
    }
  },
  "cells": [
    {
      "cell_type": "markdown",
      "source": [
        "# Carregar as bibliotecas"
      ],
      "metadata": {
        "id": "9mu-jMnwKQAw"
      }
    },
    {
      "cell_type": "code",
      "source": [
        "import numpy as np\n",
        "from skimage import io, data, filters, util, color, transform, exposure, measure\n",
        "from skimage.util import img_as_float, img_as_uint, img_as_ubyte\n",
        "import matplotlib.pyplot as plt\n",
        "from sklearn import preprocessing, metrics, svm\n",
        "from sklearn.model_selection import train_test_split\n",
        "np.seterr(divide='ignore', invalid='ignore')"
      ],
      "metadata": {
        "id": "m_6GWwLkKbd-",
        "colab": {
          "base_uri": "https://localhost:8080/"
        },
        "outputId": "ed0f91f5-65c2-4884-d166-a95048d9f842"
      },
      "execution_count": 13,
      "outputs": [
        {
          "output_type": "execute_result",
          "data": {
            "text/plain": [
              "{'divide': 'ignore', 'over': 'warn', 'under': 'ignore', 'invalid': 'ignore'}"
            ]
          },
          "metadata": {},
          "execution_count": 13
        }
      ]
    },
    {
      "cell_type": "code",
      "source": [
        "# blblioteca para arquivos zipados\n",
        "import zipfile\n",
        "# biblioteca para tranalhar com arquivos\n",
        "import os"
      ],
      "metadata": {
        "id": "bWm9PudH8Lg_"
      },
      "execution_count": 14,
      "outputs": []
    },
    {
      "cell_type": "markdown",
      "source": [
        "### Download do arquivo numbers.zip"
      ],
      "metadata": {
        "id": "9UON7qS8XrZK"
      }
    },
    {
      "cell_type": "code",
      "source": [
        "!gdown 1g7sA9bPWYOKRcTew88EDV_mdxR0j1rl4"
      ],
      "metadata": {
        "colab": {
          "base_uri": "https://localhost:8080/"
        },
        "id": "jfwPUU_k8UEx",
        "outputId": "29a651ee-c1dc-4cb2-9248-b6c01c83b6fa"
      },
      "execution_count": 15,
      "outputs": [
        {
          "output_type": "stream",
          "name": "stdout",
          "text": [
            "Downloading...\n",
            "From: https://drive.google.com/uc?id=1g7sA9bPWYOKRcTew88EDV_mdxR0j1rl4\n",
            "To: /content/numbers.zip\n",
            "\r  0% 0.00/15.1k [00:00<?, ?B/s]\r100% 15.1k/15.1k [00:00<00:00, 19.6MB/s]\n"
          ]
        }
      ]
    },
    {
      "cell_type": "markdown",
      "source": [
        "### Descomprimir arquivo zip"
      ],
      "metadata": {
        "id": "REk8OjT5Xlyq"
      }
    },
    {
      "cell_type": "code",
      "source": [
        "local_zip = 'numbers.zip'\n",
        "zip_ref = zipfile.ZipFile(local_zip, 'r')\n",
        "zip_ref.extractall('tmp')\n",
        "zip_ref.close()"
      ],
      "metadata": {
        "id": "4Aq4w5ELFwFP"
      },
      "execution_count": 16,
      "outputs": []
    },
    {
      "cell_type": "code",
      "source": [
        "m_path = 'tmp/numbers'\n",
        "img_files = os.listdir(m_path)\n",
        "print(img_files)"
      ],
      "metadata": {
        "colab": {
          "base_uri": "https://localhost:8080/"
        },
        "id": "4JYXLQ1MF05t",
        "outputId": "2c06b4cc-0d5f-4bf6-8e7e-20ae1b8dffba"
      },
      "execution_count": 17,
      "outputs": [
        {
          "output_type": "stream",
          "name": "stdout",
          "text": [
            "['num9.jpg', 'num6.jpg', 'num8.jpg', 'num7.jpg', 'num4.jpg', 'num2.jpg', 'num0.jpg', 'num3.jpg', 'num5.jpg', 'num1.jpg']\n"
          ]
        }
      ]
    },
    {
      "cell_type": "markdown",
      "source": [
        "### Ordena alfabeticamente os nomes dos arquivos"
      ],
      "metadata": {
        "id": "tCyrIsvuXy2c"
      }
    },
    {
      "cell_type": "code",
      "source": [
        "img_files.sort()\n",
        "print(img_files)"
      ],
      "metadata": {
        "colab": {
          "base_uri": "https://localhost:8080/"
        },
        "id": "U2LHiyvspcnQ",
        "outputId": "f9aba1a7-6765-4c3f-cedf-1ed680bd3ed8"
      },
      "execution_count": 18,
      "outputs": [
        {
          "output_type": "stream",
          "name": "stdout",
          "text": [
            "['num0.jpg', 'num1.jpg', 'num2.jpg', 'num3.jpg', 'num4.jpg', 'num5.jpg', 'num6.jpg', 'num7.jpg', 'num8.jpg', 'num9.jpg']\n"
          ]
        }
      ]
    },
    {
      "cell_type": "markdown",
      "source": [
        "# Questão 1\n",
        "\n",
        "<p align=\"justify\">O reconhecimento de padrões é o estudo de como as máquinas observam seu entorno, aprendem a distinguir padrões de interesse e tomam decisões razoáveis sobre as categorias dos padrões Um padrão é uma descrição de um objeto. Um computador consegue reconhecer padrões, convertendo-os em sinais digitais e comparando-os com outros sinais já armazenados na memória.  </p>\n",
        "\n",
        "<p align=\"justify\">\n",
        "Um sistema de reconhecimento geralmente compreende três componentes principais: pré-processamento, extração de características e classificação. Na etapa de pré-processamento, os dados de entrada são manipulados por uma variedade de métodos que fazem operações, tais como remoção de ruído, segmentação e melhoramento da qualidade dos mesmos. Na extração de características, o objetivo é representar os dados de entrada em termos de medidas quantificáveis que possam ser utilizados facilmente na etapa de classificação. O problema do reconhecimento de padrões é reconhecer padrões que sejam, em algum\n",
        "sentido, \"os mesmos\" apesar de ter experimentado uma variedade de transformações permitidas. Os padrões na vida real apresentam transformações geométricas lineares (rotação, escala e translação), deformações não lineares e variância de iluminação e <i>background</i>, etc. Este tipo de reconhecimento pode ser uma tarefa simples para os seres humanos e para os animais, mas converte-se em um grande problema se tentamos realizá-lo através de um computador. Os métodos tradicionais de reconhecimento de padrões carecem da habilidade para reconhecer o mesmo padrão com certo tipo de variância.</p>\n",
        "\n",
        "<p align=\"justify\">\n",
        "Execute os seguintes pasos para cada imagem da base de dados:\n",
        "</p>\n",
        "\n",
        "<ol>\n",
        "    <li>Para cada inagem fornecida, gere 20 imagens com diferentes rotações</li>\n",
        "    <li>Cada imagem rotacionado deve ser redimensionada em seis diferentes escalas: 0.5, 0.75, 1, 1.25, 1.5, 2</li>\n",
        "    <li>Inserir ruído tipo sal e pimenta en cada imagem redimensionada. Use os seguintes valores de rúido: 0, 0.01, 0.02, 0.03</li>\n",
        "    <li>Extrair os momentos de Hu de cada imagem e salvar o descritor em uma matriz e a etiqueta a qual pertence em um vetor.</li>\n",
        "\n",
        "</ol>\n"
      ],
      "metadata": {
        "id": "Nj23hoIMy6M4"
      }
    },
    {
      "cell_type": "code",
      "source": [
        "def Hu_moments(img):\n",
        "  momentos_centrais = measure.moments_central(img)\n",
        "  momentos_normalizados = measure.moments_normalized(momentos_centrais)\n",
        "  momentos_hu = measure.moments_hu(momentos_normalizados)\n",
        "  return momentos_hu"
      ],
      "metadata": {
        "id": "jYgVgTDFYCTc"
      },
      "execution_count": 19,
      "outputs": []
    },
    {
      "cell_type": "markdown",
      "source": [
        "<p align=\"justify\">  Função <i>feature_extraction()</i> extrai as características de todas as imagens e salva em uma matriz os vetores de caractarísticas. Não é necessário salvar as imagens, crie a imagem e logo faça a extração de características. </p>"
      ],
      "metadata": {
        "id": "qJX1clMMgrW0"
      }
    },
    {
      "cell_type": "code",
      "source": [
        "def feature_extraction(m_path, img_files):\n",
        "\n",
        "  # informações sobre os ângulos, tamanhos e porcentagem de ruído\n",
        "  angs = np.linspace(0,180,20)\n",
        "  tams = [0.5, 0.75, 1, 1.25, 1.5, 1.75, 2]\n",
        "  ruidos = [0, 0.01, 0.02, 0.03, 0.04]\n",
        "\n",
        "  # Calcula o número total de imagens que serão geradas\n",
        "  N = len(img_files) * len(angs) * len(tams) * len(ruidos)\n",
        "\n",
        "  # matriz que deve conter os vetores de características\n",
        "  hu_X = np.zeros( (N,7) )\n",
        "\n",
        "  # etiquetas de cada um dos vetores de características\n",
        "  hu_Y = np.zeros( (N) )\n",
        "\n",
        "  # índice usado para salvar los vetores dentro da matriz\n",
        "  pos = 0\n",
        "\n",
        "  for l, file in enumerate(img_files):\n",
        "      # l será usado como etiqueta e file é o nome do arquivo\n",
        "      img = io.imread(os.path.join(m_path, file), as_gray = True)\n",
        "      print(file)\n",
        "      yield\n",
        "  return hu_X, hu_Y\n"
      ],
      "metadata": {
        "id": "x9ivUk5_GnPa"
      },
      "execution_count": 11,
      "outputs": []
    },
    {
      "cell_type": "code",
      "source": [
        "hu_X, hu_Y = feature_extraction(m_path='tmp/numbers', img_files = img_files)"
      ],
      "metadata": {
        "colab": {
          "base_uri": "https://localhost:8080/"
        },
        "id": "DVTlESzJrWCI",
        "outputId": "8464c61d-6ccc-4d72-fd78-8296b59e71b3"
      },
      "execution_count": 12,
      "outputs": [
        {
          "output_type": "stream",
          "name": "stdout",
          "text": [
            "num0.jpg\n",
            "num1.jpg\n",
            "num2.jpg\n",
            "num3.jpg\n",
            "num4.jpg\n",
            "num5.jpg\n",
            "num6.jpg\n",
            "num7.jpg\n",
            "num8.jpg\n",
            "num9.jpg\n"
          ]
        }
      ]
    },
    {
      "cell_type": "markdown",
      "source": [
        "<ol start=\"5\">\n",
        "  <li>Normalizar os dados.</li>\n",
        "    <li>Dividir a base em dois conjuntos, uma para teste e o outro para treino.</li>\n",
        "    <li>Realizar o treinamento usando um classificador SVM</li>\n",
        "    <li>Calcule a taxa de acerto para cada tipo de digito. Além disso, gere uma matriz de confusão.</li>\n",
        "</ol>\n"
      ],
      "metadata": {
        "id": "-JVAYyJ-gGs3"
      }
    },
    {
      "cell_type": "markdown",
      "source": [
        "### Normalizar os dados"
      ],
      "metadata": {
        "id": "0MMLcqMCoLGw"
      }
    },
    {
      "cell_type": "code",
      "source": [],
      "metadata": {
        "id": "gkn87fZBeFTW"
      },
      "execution_count": null,
      "outputs": []
    },
    {
      "cell_type": "markdown",
      "source": [
        "### Dividir o conjunto de dados en treino e teste"
      ],
      "metadata": {
        "id": "PFznGWNPqX9B"
      }
    },
    {
      "cell_type": "code",
      "source": [],
      "metadata": {
        "id": "3-ekh_Zuqgrj"
      },
      "execution_count": null,
      "outputs": []
    },
    {
      "cell_type": "markdown",
      "source": [
        "### Instanciar o modelo SVM e treinar"
      ],
      "metadata": {
        "id": "WQc0l2Cjrb_H"
      }
    },
    {
      "cell_type": "code",
      "source": [],
      "metadata": {
        "id": "RKceLCUIsNDJ"
      },
      "execution_count": null,
      "outputs": []
    },
    {
      "cell_type": "markdown",
      "source": [
        "## Calcular a matriz de confusão"
      ],
      "metadata": {
        "id": "yalzk4KusN-P"
      }
    },
    {
      "cell_type": "code",
      "source": [
        "matriz = yield\n",
        "disp = metrics.ConfusionMatrixDisplay(confusion_matrix=matriz, display_labels=[0,1,2,3,4,5,6,7,8,9])\n",
        "disp.plot()\n",
        "plt.show()"
      ],
      "metadata": {
        "colab": {
          "base_uri": "https://localhost:8080/",
          "height": 457
        },
        "id": "CzRKuCc0mMl3",
        "outputId": "85ff662e-5c2c-4639-bb7b-a702624417b3"
      },
      "execution_count": null,
      "outputs": [
        {
          "output_type": "stream",
          "name": "stdout",
          "text": [
            "[[1.   0.   0.   0.   0.   0.   0.   0.   0.   0.  ]\n",
            " [0.   1.   0.   0.   0.   0.   0.   0.   0.   0.  ]\n",
            " [0.   0.   1.   0.   0.   0.   0.   0.   0.   0.  ]\n",
            " [0.   0.   0.   0.99 0.   0.01 0.   0.   0.   0.  ]\n",
            " [0.   0.   0.   0.   1.   0.   0.   0.   0.   0.  ]\n",
            " [0.   0.   0.01 0.01 0.   0.98 0.   0.   0.   0.  ]\n",
            " [0.   0.   0.   0.   0.   0.   0.81 0.   0.   0.19]\n",
            " [0.   0.   0.   0.   0.   0.   0.   1.   0.   0.  ]\n",
            " [0.07 0.   0.   0.   0.   0.   0.   0.   0.93 0.  ]\n",
            " [0.   0.   0.   0.   0.   0.   0.74 0.   0.   0.26]]\n"
          ]
        },
        {
          "output_type": "display_data",
          "data": {
            "text/plain": [
              "<Figure size 432x288 with 2 Axes>"
            ],
            "image/png": "[encoded data removed]"
          },
          "metadata": {
            "needs_background": "light"
          }
        }
      ]
    },
    {
      "cell_type": "markdown",
      "source": [
        "# Questão 2\n",
        "\n",
        "<p>Avaliar o modelo treinado reconhecendo os números nas seguinte imagem:</p>\n",
        "\n",
        "<img src=\"https://drive.google.com/uc?id=1iewo9yp9i_S-AXAvkdJA0LzUeKZNJGi7\" alt=\"Drawing\"  width=\"700\"/> </td>"
      ],
      "metadata": {
        "id": "FzdC77kfttAu"
      }
    },
    {
      "cell_type": "code",
      "source": [
        "img = io.imread('https://drive.google.com/uc?id=1iewo9yp9i_S-AXAvkdJA0LzUeKZNJGi7', as_gray=True)\n",
        "img = img > 0.5\n",
        "plt.imshow(img, cmap='gray')"
      ],
      "metadata": {
        "colab": {
          "base_uri": "https://localhost:8080/",
          "height": 161
        },
        "id": "mH0nAl8TxiY3",
        "outputId": "eae6f2ff-d6c9-4758-eb65-56bffeee4c3d"
      },
      "execution_count": 21,
      "outputs": [
        {
          "output_type": "execute_result",
          "data": {
            "text/plain": [
              "<matplotlib.image.AxesImage at 0x7f61a1758390>"
            ]
          },
          "metadata": {},
          "execution_count": 21
        },
        {
          "output_type": "display_data",
          "data": {
            "text/plain": [
              "<Figure size 432x288 with 1 Axes>"
            ],
            "image/png": "[encoded data removed]"
          },
          "metadata": {
            "needs_background": "light"
          }
        }
      ]
    },
    {
      "cell_type": "markdown",
      "source": [
        "<p align=\"justify\">O seguinte código gera os <i>bounding box</i> ao redor de cada número</p>"
      ],
      "metadata": {
        "id": "RaJHmR_FwRMb"
      }
    },
    {
      "cell_type": "code",
      "source": [
        "img_label = measure.label(img)\n",
        "regions = measure.regionprops(img_label)\n",
        "fig, ax = plt.subplots()\n",
        "ax.imshow(img_label, cmap=plt.cm.gray)\n",
        "for props in regions:\n",
        "    minr, minc, maxr, maxc = props.bbox\n",
        "    bx = (minc, maxc, maxc, minc, minc)\n",
        "    by = (minr, minr, maxr, maxr, minr)\n",
        "    ax.plot(bx, by, '-b', linewidth=2.5)"
      ],
      "metadata": {
        "colab": {
          "base_uri": "https://localhost:8080/",
          "height": 144
        },
        "id": "X61Kaq9rv8-A",
        "outputId": "09acbce9-5c69-4df3-8b35-72e07415c7e7"
      },
      "execution_count": null,
      "outputs": [
        {
          "output_type": "display_data",
          "data": {
            "text/plain": [
              "<Figure size 432x288 with 1 Axes>"
            ],
            "image/png": "[encoded data removed]"
          },
          "metadata": {
            "needs_background": "light"
          }
        }
      ]
    },
    {
      "cell_type": "code",
      "source": [
        "for props in regions:\n",
        "    minr, minc, maxr, maxc = props.bbox\n",
        "    minr -= delta\n",
        "    minc -= delta\n",
        "    maxr += delta\n",
        "    maxc += delta\n",
        "    patch = img[minr:maxr, minc:maxc]\n",
        "    plt.figure()\n",
        "    plt.imshow(patch, cmap='gray')\n",
        "    #break"
      ],
      "metadata": {
        "colab": {
          "base_uri": "https://localhost:8080/",
          "height": 1000
        },
        "id": "kskHkNLy2f02",
        "outputId": "137bb995-0b7f-413a-9d31-74671ea7983d"
      },
      "execution_count": null,
      "outputs": [
        {
          "output_type": "display_data",
          "data": {
            "text/plain": [
              "<Figure size 432x288 with 1 Axes>"
            ],
            "image/png": "[encoded data removed]"
          },
          "metadata": {
            "needs_background": "light"
          }
        },
        {
          "output_type": "display_data",
          "data": {
            "text/plain": [
              "<Figure size 432x288 with 1 Axes>"
            ],
            "image/png": "[encoded data removed]"
          },
          "metadata": {
            "needs_background": "light"
          }
        },
        {
          "output_type": "display_data",
          "data": {
            "text/plain": [
              "<Figure size 432x288 with 1 Axes>"
            ],
            "image/png": "[encoded data removed]"
          },
          "metadata": {
            "needs_background": "light"
          }
        },
        {
          "output_type": "display_data",
          "data": {
            "text/plain": [
              "<Figure size 432x288 with 1 Axes>"
            ],
            "image/png": "[encoded data removed]"
          },
          "metadata": {
            "needs_background": "light"
          }
        },
        {
          "output_type": "display_data",
          "data": {
            "text/plain": [
              "<Figure size 432x288 with 1 Axes>"
            ],
            "image/png": "[encoded data removed]"
          },
          "metadata": {
            "needs_background": "light"
          }
        },
        {
          "output_type": "display_data",
          "data": {
            "text/plain": [
              "<Figure size 432x288 with 1 Axes>"
            ],
            "image/png": "[encoded data removed]"
          },
          "metadata": {
            "needs_background": "light"
          }
        }
      ]
    },
    {
      "cell_type": "markdown",
      "source": [
        "<p align=\"justify\">Reconheça cada ums dos caracteres segmentados usando o modelo treinado</p>"
      ],
      "metadata": {
        "id": "HDgkqZq6yvQ1"
      }
    },
    {
      "cell_type": "code",
      "source": [
        "for props in regions:\n",
        "    minr, minc, maxr, maxc = props.bbox\n",
        "    minr -= delta\n",
        "    minc -= delta\n",
        "    maxr += delta\n",
        "    maxc += delta\n"
      ],
      "metadata": {
        "colab": {
          "base_uri": "https://localhost:8080/",
          "height": 1000
        },
        "id": "-xCUFINg3jVD",
        "outputId": "41c956c1-4c35-4b84-a0ea-c96f56e5bb11"
      },
      "execution_count": null,
      "outputs": [
        {
          "output_type": "stream",
          "name": "stdout",
          "text": [
            "[1.]\n",
            "[0.]\n",
            "[3.]\n",
            "[2.]\n",
            "[5.]\n",
            "[7.]\n"
          ]
        },
        {
          "output_type": "display_data",
          "data": {
            "text/plain": [
              "<Figure size 432x288 with 1 Axes>"
            ],
            "image/png": "[encoded data removed]"
          },
          "metadata": {
            "needs_background": "light"
          }
        },
        {
          "output_type": "display_data",
          "data": {
            "text/plain": [
              "<Figure size 432x288 with 1 Axes>"
            ],
            "image/png": "[encoded data removed]"
          },
          "metadata": {
            "needs_background": "light"
          }
        },
        {
          "output_type": "display_data",
          "data": {
            "text/plain": [
              "<Figure size 432x288 with 1 Axes>"
            ],
            "image/png": "[encoded data removed]"
          },
          "metadata": {
            "needs_background": "light"
          }
        },
        {
          "output_type": "display_data",
          "data": {
            "text/plain": [
              "<Figure size 432x288 with 1 Axes>"
            ],
            "image/png": "[encoded data removed]"
          },
          "metadata": {
            "needs_background": "light"
          }
        },
        {
          "output_type": "display_data",
          "data": {
            "text/plain": [
              "<Figure size 432x288 with 1 Axes>"
            ],
            "image/png": "[encoded data removed]"
          },
          "metadata": {
            "needs_background": "light"
          }
        },
        {
          "output_type": "display_data",
          "data": {
            "text/plain": [
              "<Figure size 432x288 with 1 Axes>"
            ],
            "image/png": "[encoded data removed]"
          },
          "metadata": {
            "needs_background": "light"
          }
        }
      ]
    }
  ]
}